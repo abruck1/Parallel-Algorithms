{
 "cells": [
  {
   "cell_type": "code",
   "execution_count": 1,
   "metadata": {
    "collapsed": true
   },
   "outputs": [],
   "source": [
    "import numpy as np\n",
    "import math"
   ]
  },
  {
   "cell_type": "code",
   "execution_count": 2,
   "metadata": {
    "collapsed": true
   },
   "outputs": [],
   "source": [
    "def findMaxInt(A):\n",
    "    B = np.copy(A)\n",
    "    n = A.size\n",
    "    height = int(np.ceil(np.log2(n)))\n",
    "    for h in range(height):\n",
    "        for i in range(n):\n",
    "            if i<n/float(pow(2,h+1)):\n",
    "                x = 0 if (2*i>=n) else B[2*i]\n",
    "                y = 0 if ((2*i+1)>=n) else B[2*i+1]\n",
    "                B[i] = max( (x%2)*x, (y%2)*y )\n",
    "                #print (\"B[%d] = %d\" % (i, B[i]))\n",
    "    return B[0]"
   ]
  },
  {
   "cell_type": "code",
   "execution_count": 3,
   "metadata": {
    "collapsed": true
   },
   "outputs": [],
   "source": [
    "def prob1_5(A,x,y):\n",
    "    \n",
    "    # step 0: init\n",
    "    n = A.size\n",
    "    \n",
    "    # step 1: array B (O(1) in parallel)\n",
    "    B = np.zeros(n).astype(int)\n",
    "    for i in range(n):\n",
    "        B[i] = 0 if (A[i]<x or A[i]>y) else 1\n",
    "    \n",
    "    # step 2: get size for new array by summing B (O(log n) in parallel)\n",
    "    newSize = sum(B)\n",
    "    \n",
    "    # step 3: cumsum to get new indices (O(log n) in parallel)\n",
    "    C = np.cumsum(B)\n",
    "    \n",
    "    # step 4: make new array (O(1) in parallel)\n",
    "    D = np.zeros(newSize).astype(int)\n",
    "    for i in range(n):\n",
    "        if(B[i]==1):\n",
    "            D[C[i]-1] = A[i]\n",
    "    return D"
   ]
  },
  {
   "cell_type": "code",
   "execution_count": 6,
   "metadata": {},
   "outputs": [
    {
     "name": "stdout",
     "output_type": "stream",
     "text": [
      "17\n",
      "[4 6 7 5 9]\n"
     ]
    }
   ],
   "source": [
    "A = np.array([11, 2, 3, 4, 15, 6, 7, 5, 9, 11, 17])\n",
    "print findMaxInt(A)\n",
    "print prob1_5(A,4,9)"
   ]
  },
  {
   "cell_type": "code",
   "execution_count": null,
   "metadata": {
    "collapsed": true
   },
   "outputs": [],
   "source": [
    "\n"
   ]
  },
  {
   "cell_type": "code",
   "execution_count": null,
   "metadata": {
    "collapsed": true
   },
   "outputs": [],
   "source": []
  }
 ],
 "metadata": {
  "kernelspec": {
   "display_name": "Python 2",
   "language": "python",
   "name": "python2"
  },
  "language_info": {
   "codemirror_mode": {
    "name": "ipython",
    "version": 2
   },
   "file_extension": ".py",
   "mimetype": "text/x-python",
   "name": "python",
   "nbconvert_exporter": "python",
   "pygments_lexer": "ipython2",
   "version": "2.7.12"
  }
 },
 "nbformat": 4,
 "nbformat_minor": 2
}
